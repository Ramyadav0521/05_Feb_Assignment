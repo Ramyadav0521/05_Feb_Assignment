{
 "cells": [
  {
   "cell_type": "markdown",
   "id": "198eb159-f97f-48af-818c-55155833ba2c",
   "metadata": {},
   "source": [
    "Q1. Explain Class and Object with respect to Object-Oriented Programming. Give a suitable example."
   ]
  },
  {
   "cell_type": "code",
   "execution_count": 3,
   "id": "35b17149-dd1d-4fcb-8d55-ae64d527b0ad",
   "metadata": {},
   "outputs": [],
   "source": [
    "# \"\"\"Python Classes/Objects:--\n",
    "\n",
    "# Python is an object oriented programming language.\n",
    "\n",
    "# Almost everything in Python is an object, with its properties and methods.\n",
    "\n",
    "# A Class is like an object constructor, or a \"blueprint\" for creating objects.\n",
    "\n",
    "# Creat a class.\n",
    "\n",
    "# Creat a class:-\n",
    "# Create a class named test, with a property named x:\n",
    "\n",
    "# class test:\n",
    "#     x =5 \n",
    "\n",
    "# creat a object:--\n",
    "# Create an object named p1, and print the value of x:\n",
    "# p1 = test()\n",
    "# print(p1.x)\n",
    "# \"\"\"\n",
    "    \n",
    "\n"
   ]
  },
  {
   "cell_type": "code",
   "execution_count": null,
   "id": "1412c205-c570-4456-ae64-58ac71ce835f",
   "metadata": {},
   "outputs": [],
   "source": []
  },
  {
   "cell_type": "code",
   "execution_count": 4,
   "id": "a1b6573a-70bc-4105-a25c-96be64366399",
   "metadata": {},
   "outputs": [],
   "source": [
    "# Q2. Name the four pillars of OOPs."
   ]
  },
  {
   "cell_type": "code",
   "execution_count": 7,
   "id": "074ab207-3976-4dfd-b7d7-ff2bd7d03630",
   "metadata": {},
   "outputs": [],
   "source": [
    "\n",
    "# \"\"\"\n",
    "# The four pillars for OOP are:\n",
    "# Abstraction.\n",
    "# Encapsulation.\n",
    "# Inheritance.\n",
    "# Polymorphism\n",
    "# \"\"\""
   ]
  },
  {
   "cell_type": "code",
   "execution_count": null,
   "id": "d3b979ec-b386-4509-9a0b-5e50d0c4b7aa",
   "metadata": {},
   "outputs": [],
   "source": []
  },
  {
   "cell_type": "code",
   "execution_count": 8,
   "id": "d3c5baef-4ee3-4916-947c-6503c103ab35",
   "metadata": {},
   "outputs": [],
   "source": [
    "# Q3. Explain why the __init__() function is used. Give a suitable example."
   ]
  },
  {
   "cell_type": "code",
   "execution_count": 9,
   "id": "d382a275-4000-4d9b-8b12-cefeb400e0e6",
   "metadata": {},
   "outputs": [],
   "source": [
    "# The __init__() Function\n",
    "# The examples above are classes and objects in their simplest form, and are not really useful in real life applications.\n",
    "\n",
    "# To understand the meaning of classes we have to understand the built-in __init__() function.\n",
    "\n",
    "# All classes have a function called __init__(), which is always executed when the class is being initiated.\n",
    "\n",
    "# Use the __init__() function to assign values to object properties, or other operations that are necessary to do when the object is being created\n",
    "#Example of __init__"
   ]
  },
  {
   "cell_type": "code",
   "execution_count": 12,
   "id": "0d58081f-1d8c-4cd9-9db0-caed3fc7961f",
   "metadata": {},
   "outputs": [
    {
     "name": "stdin",
     "output_type": "stream",
     "text": [
      "Enter a student name Ram Yadav\n",
      "Enter a student STD name 15\n",
      "Enter a student Roll No 1\n",
      "Enter a division name A\n"
     ]
    },
    {
     "name": "stdout",
     "output_type": "stream",
     "text": [
      "Ram Yadav\n",
      "15\n",
      "1\n",
      "A\n"
     ]
    }
   ],
   "source": [
    "class student:\n",
    "    def __init__(self,name, std, roll_no,div):\n",
    "        self.name = name\n",
    "        self.std = std\n",
    "        self.roll_no =roll_no\n",
    "        self.div = div\n",
    "        \n",
    "s = student(input(\"Enter a student name\"), int(input(\"Enter a student STD name\")), int(input(\"Enter a student Roll No\")), input(\"Enter a division name\"))\n",
    "print(s.name)\n",
    "print(s.std)\n",
    "print(s.roll_no)\n",
    "print(s.div)"
   ]
  },
  {
   "cell_type": "code",
   "execution_count": null,
   "id": "8c68e670-41a1-4589-aa4f-b72dd6423394",
   "metadata": {},
   "outputs": [],
   "source": []
  },
  {
   "cell_type": "code",
   "execution_count": 13,
   "id": "595759fd-38eb-4abc-a2e1-ae2329623d11",
   "metadata": {},
   "outputs": [],
   "source": [
    "# Q4. Why self is used in OOPs?"
   ]
  },
  {
   "cell_type": "code",
   "execution_count": 14,
   "id": "3b04d2cf-e5d3-44cf-9d6b-4f18ed1ea21d",
   "metadata": {},
   "outputs": [],
   "source": [
    "# The self Parameter\n",
    "# The self parameter is a reference to the current instance of the class, \n",
    "# and is used to access variables that belongs to the class.\n",
    "\n",
    "# It does not have to be named self , you can call it whatever you like, \n",
    "# but it has to be the first parameter of any function in the class:"
   ]
  },
  {
   "cell_type": "code",
   "execution_count": null,
   "id": "0b09efd1-f2bc-4edf-ab66-c3a2fc79d506",
   "metadata": {},
   "outputs": [],
   "source": []
  },
  {
   "cell_type": "code",
   "execution_count": 15,
   "id": "c52ee60d-85ac-4d3a-b930-5573592e7118",
   "metadata": {},
   "outputs": [],
   "source": [
    "# Q5. What is inheritance? Give an example for each type of inheritance."
   ]
  },
  {
   "cell_type": "code",
   "execution_count": 16,
   "id": "33bd52b9-5f92-44d4-89de-d3cdeb129a3b",
   "metadata": {},
   "outputs": [],
   "source": [
    "# # Python Inheritance\n",
    "# # Inheritance allows us to define a class that inherits all the methods and properties from another class.\n",
    "\n",
    "# # Parent class is the class being inherited from, also called base class.\n",
    "\n",
    "# # Child class is the class that inherits from another class, also called derived class.\n",
    "# Example:--\n",
    "#         Create a class named Account, \n",
    "#             with firstname and lastname and date of birth properties, and a printname method:"
   ]
  },
  {
   "cell_type": "code",
   "execution_count": 22,
   "id": "f15e5065-c668-421f-81d9-c22c293ac4c6",
   "metadata": {},
   "outputs": [
    {
     "name": "stdin",
     "output_type": "stream",
     "text": [
      "Enter a firstname Ram \n",
      "Enter a lastname Yadav\n",
      "Enter a date of birth 21\n"
     ]
    },
    {
     "name": "stdout",
     "output_type": "stream",
     "text": [
      "Ram \n",
      "Yadav\n",
      "21\n"
     ]
    }
   ],
   "source": [
    "class Account:\n",
    "    def __init__(self,firstname,lastname,dob):\n",
    "        self.firstname = firstname\n",
    "        self.lastname = lastname\n",
    "        self.dob= dob\n",
    "A = Account((input(\"Enter a firstname\")), input(\"Enter a lastname\"), int(input(\"Enter a date of birth\")))\n",
    "print(A.firstname)\n",
    "print(A.lastname)\n",
    "print(A.dob)"
   ]
  },
  {
   "cell_type": "code",
   "execution_count": null,
   "id": "ed625763-a864-4a7e-9e5e-f2d02551582c",
   "metadata": {},
   "outputs": [],
   "source": []
  }
 ],
 "metadata": {
  "kernelspec": {
   "display_name": "Python 3 (ipykernel)",
   "language": "python",
   "name": "python3"
  },
  "language_info": {
   "codemirror_mode": {
    "name": "ipython",
    "version": 3
   },
   "file_extension": ".py",
   "mimetype": "text/x-python",
   "name": "python",
   "nbconvert_exporter": "python",
   "pygments_lexer": "ipython3",
   "version": "3.10.6"
  }
 },
 "nbformat": 4,
 "nbformat_minor": 5
}
